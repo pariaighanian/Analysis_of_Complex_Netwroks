{
 "cells": [
  {
   "cell_type": "markdown",
   "metadata": {},
   "source": [
    "## Assignment 8\n",
    "The goal of this lab is to examine and experiment with several techniques related to influence analysis\n",
    "in complex networks. Influence is defined between two users and represents how\n",
    "possible is for a user to adapt the behavior or copy the action of another user. \n",
    "\n",
    "We will first introduce the diffusion model which can be used to simulate a spreading process that takes place over the network.\n",
    " \n",
    "Subsequently, we will utilize the structure of the network to identify influencers based in a heuristic manner.\n",
    "\n",
    "Finally, we will examine the algorithmic solution to the problem of influence maximization,\n",
    "which is choosing the optimum nodes to maximize the spread of information, and compare it with\n",
    "the heuristic approach based on the simulations.\n",
    "\n",
    "We will again rely on the network sciecne dataset for our use case. The following questions can be answered with the help of networkx and NDlib. You may also use other packages to deal with the problem. Please answer the following questions on the networks you have and submit your executable code."
   ]
  },
  {
   "cell_type": "code",
   "execution_count": 73,
   "metadata": {},
   "outputs": [],
   "source": [
    "import networkx as nx\n",
    "from matplotlib import pyplot as plt\n",
    "import numpy as np\n",
    "import ndlib.models.epidemics.IndependentCascadesModel as ICM\n",
    "import ndlib.models.ModelConfig as mc\n",
    "from pprint import pprint\n"
   ]
  },
  {
   "cell_type": "code",
   "execution_count": 2,
   "metadata": {},
   "outputs": [],
   "source": [
    "path = \"\""
   ]
  },
  {
   "cell_type": "code",
   "execution_count": 3,
   "metadata": {},
   "outputs": [],
   "source": [
    "# download a file from a url \n",
    "import requests\n",
    "\n",
    "def download(url,file_name):\n",
    "    get_response = requests.get(url)\n",
    "    with open(file_name, \"wb\") as out_file:\n",
    "        out_file.write(get_response.content)\n",
    "\n",
    "download(url = \"http://www.casos.cs.cmu.edu/computational_tools/datasets/external/netscience/netscience.gml\", file_name=path+\"netscience.gml\")"
   ]
  },
  {
   "cell_type": "code",
   "execution_count": 27,
   "metadata": {},
   "outputs": [
    {
     "name": "stdout",
     "output_type": "stream",
     "text": [
      "Graph Information:\n",
      "Graph with 1589 nodes and 2742 edges\n",
      "\n",
      "5 Sample nodes:\n",
      "[('ABRAMSON, G', {}), ('KUPERMAN, M', {}), ('ACEBRON, J', {}), ('BONILLA, L', {}), ('PEREZVICENTE, C', {})]\n"
     ]
    }
   ],
   "source": [
    "# Read the data and show the basic information\n",
    "graph = nx.read_gml(\"netscience.gml\")\n",
    "\n",
    "print(\"Graph Information:\")\n",
    "print(nx.info(graph))\n",
    "\n",
    "\n",
    "print(\"\\n5 Sample nodes:\")\n",
    "nodes_list = list(graph.nodes(data=True))  # 'data=True' to include attributes\n",
    "\n",
    "print(nodes_list[:5])"
   ]
  },
  {
   "cell_type": "markdown",
   "metadata": {},
   "source": [
    "**(a)** We will first create a method to evaluate our chosen seeds, based on epidemic simulation. As a means for evaluation, we use the Independent Cascade model, to compute the number of influenced nodes during an influence spread over the network. \n",
    "This model assumes that a node v has only one chance to influence each of its neighbors u based on the probability `p v,u` . \n",
    "We define the model's parameters (threshold=0.01) based on common approaches in the literature, and run the epidemic through 10 steps in order to get an approximation and retreive fast results (in normal circumstances it is 10 thousand).\n",
    "\n",
    "\n",
    "In terms of implementation we will define a function $simulate\\_spreading$ that performs the simulation using the IndependentCascadeModel and ModelConfig from NDlib.\n",
    "More specficially, we have to loop through the edges and add a variable named \"threshold\" that resembles the probability of influencing a node's neighbors (set to $0.01$ as is common in the literature for dense graphs), using the function $add\\_edge\\_configuration$.\n"
   ]
  },
  {
   "cell_type": "code",
   "execution_count": 51,
   "metadata": {},
   "outputs": [],
   "source": [
    "def simulate_spreading(G, seed_set, sim=10, num_steps=5, threshold=0.01):\n",
    "    \"\"\"\n",
    "    Simulates the influence spread on a graph using the Independent Cascade Model from NDlib.\n",
    "\n",
    "    Parameters:\n",
    "    - G (networkx.Graph): Input graph.\n",
    "    - seed_set (list): List of seed nodes to start the spread.\n",
    "    - sim (int): Number of simulation runs to average the result.\n",
    "    - num_steps (int): Number of steps in each simulation.\n",
    "    - threshold (float): Propagation probability for each edge.\n",
    "\n",
    "    Returns:\n",
    "    - float: Average number of influenced nodes after all simulations.\n",
    "    \"\"\"\n",
    "    total_influenced = 0\n",
    "    \n",
    "    for _ in range(sim):\n",
    "        # Initialize the Independent Cascade Model\n",
    "        model = ICM(G)\n",
    "        config = mc.Configuration()\n",
    "\n",
    "        # Add seed nodes to the configuration\n",
    "        config.add_model_initial_configuration(\"Infected\", seed_set)\n",
    "\n",
    "        # Add thresholds to edges\n",
    "        for edge in G.edges():\n",
    "            config.add_edge_configuration(\"threshold\", edge, threshold)\n",
    "\n",
    "        # Set the configuration\n",
    "        model.set_initial_status(config)\n",
    "\n",
    "        # Simulate for the specified number of steps\n",
    "        iterations = model.iteration_bunch(num_steps)\n",
    "\n",
    "        # Track influenced nodes\n",
    "        influenced_nodes = set()\n",
    "        for iteration in iterations:\n",
    "            # Extract nodes with status '1' (infected)\n",
    "            infected_nodes = [node for node, status in iteration[\"status\"].items() if status == 1]\n",
    "            influenced_nodes.update(infected_nodes)\n",
    "\n",
    "        total_influenced += len(influenced_nodes)\n",
    "\n",
    "    # Return the average number of influenced nodes\n",
    "    return total_influenced / sim\n"
   ]
  },
  {
   "cell_type": "code",
   "execution_count": 81,
   "metadata": {},
   "outputs": [
    {
     "name": "stdout",
     "output_type": "stream",
     "text": [
      "\"Iteration 0, Seed Nodes: ['ABRAMSON, G'], Average Influenced Nodes: 1.3\"\n",
      "----------------------------------------------------------------------------------\n",
      "(\"Iteration 1, Seed Nodes: ['ABRAMSON, G', 'KUPERMAN, M'], Average Influenced \"\n",
      " 'Nodes: 2.4')\n",
      "----------------------------------------------------------------------------------\n",
      "(\"Iteration 2, Seed Nodes: ['ABRAMSON, G', 'KUPERMAN, M', 'ACEBRON, J'], \"\n",
      " 'Average Influenced Nodes: 3.2')\n",
      "----------------------------------------------------------------------------------\n",
      "(\"Iteration 3, Seed Nodes: ['ABRAMSON, G', 'KUPERMAN, M', 'ACEBRON, J', \"\n",
      " \"'BONILLA, L'], Average Influenced Nodes: 5.2\")\n",
      "----------------------------------------------------------------------------------\n",
      "(\"Iteration 4, Seed Nodes: ['ABRAMSON, G', 'KUPERMAN, M', 'ACEBRON, J', \"\n",
      " \"'BONILLA, L', 'PEREZVICENTE, C'], Average Influenced Nodes: 6.0\")\n",
      "----------------------------------------------------------------------------------\n",
      "(\"Iteration 5, Seed Nodes: ['ABRAMSON, G', 'KUPERMAN, M', 'ACEBRON, J', \"\n",
      " \"'BONILLA, L', 'PEREZVICENTE, C', 'RITORT, F'], Average Influenced Nodes: 6.7\")\n",
      "----------------------------------------------------------------------------------\n",
      "(\"Iteration 6, Seed Nodes: ['ABRAMSON, G', 'KUPERMAN, M', 'ACEBRON, J', \"\n",
      " \"'BONILLA, L', 'PEREZVICENTE, C', 'RITORT, F', 'SPIGLER, R'], Average \"\n",
      " 'Influenced Nodes: 7.4')\n",
      "----------------------------------------------------------------------------------\n",
      "(\"Iteration 7, Seed Nodes: ['ABRAMSON, G', 'KUPERMAN, M', 'ACEBRON, J', \"\n",
      " \"'BONILLA, L', 'PEREZVICENTE, C', 'RITORT, F', 'SPIGLER, R', 'ADAMIC, L'], \"\n",
      " 'Average Influenced Nodes: 9.0')\n",
      "----------------------------------------------------------------------------------\n",
      "(\"Iteration 8, Seed Nodes: ['ABRAMSON, G', 'KUPERMAN, M', 'ACEBRON, J', \"\n",
      " \"'BONILLA, L', 'PEREZVICENTE, C', 'RITORT, F', 'SPIGLER, R', 'ADAMIC, L', \"\n",
      " \"'ADAR, E'], Average Influenced Nodes: 10.0\")\n",
      "----------------------------------------------------------------------------------\n",
      "(\"Iteration 9, Seed Nodes: ['ABRAMSON, G', 'KUPERMAN, M', 'ACEBRON, J', \"\n",
      " \"'BONILLA, L', 'PEREZVICENTE, C', 'RITORT, F', 'SPIGLER, R', 'ADAMIC, L', \"\n",
      " \"'ADAR, E', 'HUBERMAN, B'], Average Influenced Nodes: 11.2\")\n",
      "----------------------------------------------------------------------------------\n"
     ]
    }
   ],
   "source": [
    "for i in range(10):\n",
    "    seed_nodes = list(graph.nodes)[:i+1]  # Select first i+1 nodes \n",
    "    total_influenced = simulate_spreading(graph, seed_nodes, sim=10, num_steps=5, threshold=0.1)   # Higher threshold for spread\n",
    "    pprint(f\"Iteration {i}, Seed Nodes: {seed_nodes}, Average Influenced Nodes: {total_influenced}\")\n",
    "    print('----------------------------------------------------------------------------------')"
   ]
  },
  {
   "cell_type": "markdown",
   "metadata": {},
   "source": [
    "**(b)** Compute K-core score:  Given our undirected network G, C k is defined as the k-core subgraph of G if it is a maximal connected subgraph in which all nodes have degree at least k. Then, each node v ∈ V has a core number c(v) = k, if it belongs to a k-core but not to a (k + 1)-core. The cohesion of subgraphs increases as k increases. Let us denote as C the set of nodes with the maximum core number k\\_max. Compute the top 20 nodes in terms of the k-core they belong to and simulate their spreading."
   ]
  },
  {
   "cell_type": "code",
   "execution_count": null,
   "metadata": {},
   "outputs": [
    {
     "name": "stdout",
     "output_type": "stream",
     "text": [
      "Node: GIOT, L, Average Influenced Nodes: 13.5\n",
      "Node: UETZ, P, Average Influenced Nodes: 11.8\n",
      "Node: CAGNEY, G, Average Influenced Nodes: 6.7\n",
      "Node: MANSFIELD, T, Average Influenced Nodes: 10.3\n",
      "Node: JUDSON, R, Average Influenced Nodes: 11.8\n",
      "Node: KNIGHT, J, Average Influenced Nodes: 8.5\n",
      "Node: LOCKSHON, D, Average Influenced Nodes: 10.6\n",
      "Node: NARAYAN, V, Average Influenced Nodes: 9.9\n",
      "Node: SRINIVASAN, M, Average Influenced Nodes: 10.2\n",
      "Node: POCHART, P, Average Influenced Nodes: 10.5\n",
      "Node: QURESHIEMILI, A, Average Influenced Nodes: 10.0\n",
      "Node: LI, Y, Average Influenced Nodes: 10.7\n",
      "Node: GODWIN, B, Average Influenced Nodes: 13.2\n",
      "Node: CONOVER, D, Average Influenced Nodes: 12.2\n",
      "Node: KALBFLEISCH, T, Average Influenced Nodes: 9.6\n",
      "Node: VIJAYADAMODAR, G, Average Influenced Nodes: 13.5\n",
      "Node: YANG, M, Average Influenced Nodes: 10.1\n",
      "Node: JOHNSTON, M, Average Influenced Nodes: 8.2\n",
      "Node: FIELDS, S, Average Influenced Nodes: 10.2\n",
      "Node: ROTHBERG, J, Average Influenced Nodes: 12.4\n"
     ]
    }
   ],
   "source": [
    "def get_top_k_core_nodes(G, top_n):\n",
    "    \"\"\"\n",
    "    Returns the top n nodes with the highest core number (k-core).\n",
    "    \n",
    "    Parameters:\n",
    "    - G (networkx.Graph): The input graph.\n",
    "    - top_n (int): The number of top nodes to select based on their core number.\n",
    "    \n",
    "    Returns:\n",
    "    - list: A list of the top n nodes with the highest core number.\n",
    "    \"\"\"\n",
    "    # Compute the core number for each node\n",
    "    core_numbers = nx.core_number(G)\n",
    "    \n",
    "    # Sort nodes by core number in descending order\n",
    "    sorted_nodes = sorted(core_numbers.items(), key=lambda x: x[1], reverse=True)\n",
    "    \n",
    "    # Extract the top_n nodes based on core number\n",
    "    top_nodes = [node for node, core in sorted_nodes[:top_n]]\n",
    "    \n",
    "    return top_nodes\n",
    "\n",
    "def simulate_spreading_on_top_k_core_nodes(G, top_k_nodes, sim=10, num_steps=5, threshold=0.1):\n",
    "    \"\"\"\n",
    "    Simulates the influence spread on the top nodes with the highest core number (top k-core).\n",
    "    \n",
    "    Parameters:\n",
    "    - G (networkx.Graph): Input graph.\n",
    "    - top_k_nodes (list): List of top nodes with the highest core number.\n",
    "    - sim (int): Number of simulation runs.\n",
    "    - num_steps (int): Number of steps in each simulation.\n",
    "    - threshold (float): Propagation probability for each edge.\n",
    "    \n",
    "    Returns:\n",
    "    - dict: A dictionary with the node and the average influenced nodes for each simulation.\n",
    "    \"\"\"\n",
    "    results = {}\n",
    "    for node in top_k_nodes:\n",
    "        seed_nodes = [node]  # Start with the top node as the seed\n",
    "        total_influenced = simulate_spreading(G, seed_nodes, sim=sim, num_steps=num_steps, threshold=threshold)\n",
    "        results[node] = total_influenced\n",
    "    return results\n",
    "\n",
    "top_20_k_core_nodes = get_top_k_core_nodes(graph, top_n=20)\n",
    "\n",
    "\n",
    "# Simulate the spreading for the top 20 nodes in the k-core\n",
    "results = simulate_spreading_on_top_k_core_nodes(graph, top_20_k_core_nodes, sim=10, num_steps=5, threshold=0.1)\n",
    "\n",
    "for node, influenced in results.items():\n",
    "    print(f\"Node: {node}, Average Influenced Nodes: {influenced}\")"
   ]
  },
  {
   "cell_type": "markdown",
   "metadata": {},
   "source": [
    "**(c)** Implement Greedy IM: Influence Maximization is the problem that lies in the heart of influence analysis and addresses how to find a set of nodes, such that if they start a diffusion, the number of infected nodes in the network (influenced spread) will be maximized. It has a broad range of applications, from viral marketing, which was the initial motivation for the problem, to epidemiological containment and political campaign management.\n",
    "The problem can be formulated as follows: given a social network, a diffusion model with some parameters and a number k, find a seed set S $\\subset$ V of size k such that the influence spread is maximized.  We will use the well known method from Kempe et al.[ [1](https://dl.acm.org/doi/pdf/10.1145/956750.956769?casa_token=tkl-2BIJoXIAAAAA:SD8O7LcvEPGyGAdv8cHEwSqgn3Jz0UeHvpRK3-xYB2Z9C7gy-iOQpeHoFqOWzDMfAskBgVzYrpzS)] that is based on the fact that the function of the influence spread under the IC and LT models is monotone non-decreasing and submodular, which gives a  $(1-1/e)$ approximation ratio to the optimal.\n",
    "\n",
    "To simplify and speed up the implementation to less then a minute, we are going to use only one simple simulation based on the function defined above. Moreover, we will reduce the search space of the algorithm by giving as an input a set of selected nodes to search on. To find a shorter set of such nodes, you can use the filter\\_graph function below, that removes nodes under a certain degree, and set an appropriate threshold e.g. 3. We utilize these shortcuts because we need to make the algorithm run in time for the lab. You are encouraged to experiment further in your own time with an implementation that matches more the original algorithm, mainly in order to get a firm understanding of the computational demand of influence maximization."
   ]
  },
  {
   "cell_type": "code",
   "execution_count": 120,
   "metadata": {},
   "outputs": [],
   "source": [
    "def filter_graph(G,threshold):\n",
    "    G_ = G.copy()\n",
    "    to_remove = [i for i in G_.nodes() if G_.degree(i) < threshold]\n",
    "    G_.remove_nodes_from(to_remove)\n",
    "    print(\"Removed \"+str(len(to_remove))+\" of \"+str(len(G.nodes()))+\" nodes\")\n",
    "   \n",
    "    return G_"
   ]
  },
  {
   "cell_type": "code",
   "execution_count": null,
   "metadata": {},
   "outputs": [
    {
     "name": "stdout",
     "output_type": "stream",
     "text": [
      "Removed 793 of 1589 nodes\n",
      "Selected node: UETZ, P, Influence spread: 15.0\n",
      "Selected node: JEONG, H, Influence spread: 21.0\n",
      "Selected node: KLEINBERG, J, Influence spread: 27.8\n",
      "Selected node: ALON, U, Influence spread: 31.0\n",
      "Selected node: WELLMAN, B, Influence spread: 38.4\n",
      "Final seed set: ['UETZ, P', 'JEONG, H', 'KLEINBERG, J', 'ALON, U', 'WELLMAN, B']\n"
     ]
    }
   ],
   "source": [
    "import random\n",
    "\n",
    "def greedy_algorithm(G, selected_nodes, size, sim):\n",
    "    \"\"\"\n",
    "    Greedy influence maximization algorithm for a subset of nodes (Kempe et al., 2003)\n",
    "    \n",
    "    Parameters:\n",
    "    - G (networkx.Graph): The input graph.\n",
    "    - selected_nodes (list): List of nodes to search over for the best seed set.\n",
    "    - size (int): The size of the seed set (k).\n",
    "    - sim (int): The number of simulation runs to estimate influence spread.\n",
    "    \n",
    "    Returns:\n",
    "    - list: A list of selected seed nodes.\n",
    "    \"\"\"\n",
    "    seed_set = []  \n",
    "    remaining_nodes = selected_nodes.copy() \n",
    "    total_influenced = []  \n",
    "    \n",
    "    for _ in range(size):\n",
    "        influence_spread = {}  \n",
    "        \n",
    "        for node in remaining_nodes:\n",
    "            current_seed_set = seed_set + [node]\n",
    "            influence = simulate_spreading(G, current_seed_set, sim=sim, num_steps=5, threshold=0.1)\n",
    "            influence_spread[node] = influence\n",
    "        \n",
    "        best_node = max(influence_spread, key=influence_spread.get)\n",
    "        \n",
    "        seed_set.append(best_node)\n",
    "        \n",
    "        remaining_nodes.remove(best_node)\n",
    "        \n",
    "        print(f\"Selected node: {best_node}, Influence spread: {influence_spread[best_node]}\")\n",
    "        \n",
    "    return seed_set\n"
   ]
  },
  {
   "cell_type": "markdown",
   "metadata": {},
   "source": [
    "**(d)** Plot the spreading of k-core and greedy IM for a seed set of 20 to compare them."
   ]
  },
  {
   "cell_type": "code",
   "execution_count": null,
   "metadata": {},
   "outputs": [
    {
     "name": "stdout",
     "output_type": "stream",
     "text": [
      "Removed 793 of 1589 nodes\n",
      "Selected node: JUDSON, R, Influence spread: 13.6\n",
      "Selected node: ALON, U, Influence spread: 19.6\n",
      "Selected node: JEONG, H, Influence spread: 26.5\n",
      "Selected node: BENJACOB, E, Influence spread: 32.9\n",
      "Selected node: WEULE, M, Influence spread: 34.5\n",
      "Selected node: WEIL, B, Influence spread: 38.5\n",
      "Selected node: VALLONE, A, Influence spread: 40.8\n",
      "Selected node: KRAPIVSKY, P, Influence spread: 41.7\n",
      "Selected node: KUMAR, R, Influence spread: 45.7\n",
      "Selected node: STAUFFER, D, Influence spread: 46.7\n",
      "Selected node: SRINIVASAN, M, Influence spread: 49.9\n",
      "Selected node: AMARAL, L, Influence spread: 53.2\n",
      "Selected node: VALVERDE, S, Influence spread: 55.3\n",
      "Selected node: MURRAY, A, Influence spread: 57.6\n",
      "Selected node: MUTH, S, Influence spread: 59.7\n",
      "Selected node: GERBER, G, Influence spread: 65.9\n",
      "Selected node: CALDARELLI, G, Influence spread: 66.3\n",
      "Selected node: MAY, R, Influence spread: 69.6\n",
      "Selected node: LLAS, M, Influence spread: 71.7\n",
      "Selected node: KLOVDAHL, A, Influence spread: 72.3\n"
     ]
    },
    {
     "data": {
      "image/png": "[encoded data removed]",
      "text/plain": [
       "<Figure size 1000x600 with 1 Axes>"
      ]
     },
     "metadata": {},
     "output_type": "display_data"
    }
   ],
   "source": [
    "def plot_spreading_comparison(G, sim=10, num_steps=5, threshold=0.1):\n",
    "    \"\"\"\n",
    "    Compares the spreading of influence using k-core nodes and Greedy IM.\n",
    "    \n",
    "    Parameters:\n",
    "    - G (networkx.Graph): The input graph.\n",
    "    - sim (int): Number of simulation runs.\n",
    "    - num_steps (int): Number of steps in the simulation.\n",
    "    - threshold (float): Propagation probability for each edge.\n",
    "    \"\"\"\n",
    "    \n",
    "    # Get the top 20 nodes using k-core\n",
    "    k_max_nodes = get_k_max_nodes(G)[:20]\n",
    "    \n",
    "    # Run Greedy IM to select the top 20 nodes\n",
    "    filtered_graph = filter_graph(G, threshold=3)\n",
    "    selected_nodes_for_greedy = list(filtered_graph.nodes)\n",
    "    greedy_seed_set = greedy_algorithm(filtered_graph, selected_nodes_for_greedy, size=20, sim=sim)\n",
    "    \n",
    "    # Simulate the spreading for k-core nodes\n",
    "    k_core_influenced = []\n",
    "    for step in range(1, num_steps + 1):\n",
    "        influenced_nodes = simulate_spreading(G, k_max_nodes, sim=sim, num_steps=step, threshold=threshold)\n",
    "        k_core_influenced.append(influenced_nodes)\n",
    "\n",
    "    # Simulate the spreading for Greedy IM nodes\n",
    "    greedy_influenced = []\n",
    "    for step in range(1, num_steps + 1):\n",
    "        influenced_nodes = simulate_spreading(G, greedy_seed_set, sim=sim, num_steps=step, threshold=threshold)\n",
    "        greedy_influenced.append(influenced_nodes)\n",
    "\n",
    "    plt.figure(figsize=(10, 6))\n",
    "    plt.plot(range(1, num_steps + 1), k_core_influenced, label=\"K-Core Seed Set\", marker='o', color='blue')\n",
    "    plt.plot(range(1, num_steps + 1), greedy_influenced, label=\"Greedy IM Seed Set\", marker='x', color='red')\n",
    "    plt.xlabel('Steps')\n",
    "    plt.ylabel('Average Number of Influenced Nodes')\n",
    "    plt.title('Comparison of Influence Spread: K-Core vs Greedy IM')\n",
    "    plt.legend()\n",
    "    plt.grid(True)\n",
    "    plt.show()\n",
    "\n",
    "plot_spreading_comparison(graph, sim=10, num_steps=5, threshold=0.1)\n"
   ]
  }
 ],
 "metadata": {
  "kernelspec": {
   "display_name": "Python 3",
   "language": "python",
   "name": "python3"
  },
  "language_info": {
   "codemirror_mode": {
    "name": "ipython",
    "version": 3
   },
   "file_extension": ".py",
   "mimetype": "text/x-python",
   "name": "python",
   "nbconvert_exporter": "python",
   "pygments_lexer": "ipython3",
   "version": "3.9.13"
  }
 },
 "nbformat": 4,
 "nbformat_minor": 2
}
