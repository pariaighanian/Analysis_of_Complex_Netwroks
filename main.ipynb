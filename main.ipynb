{
 "cells": [
  {
   "cell_type": "code",
   "execution_count": 17,
   "metadata": {},
   "outputs": [],
   "source": [
    "import networkx as nx\n"
   ]
  },
  {
   "cell_type": "markdown",
   "metadata": {},
   "source": [
    "## (a) How many nodes and edges are there in the networks?\n"
   ]
  },
  {
   "cell_type": "markdown",
   "metadata": {},
   "source": [
    "### Facebook - Undirected Graph"
   ]
  },
  {
   "cell_type": "code",
   "execution_count": 18,
   "metadata": {},
   "outputs": [
    {
     "name": "stdout",
     "output_type": "stream",
     "text": [
      "Number of nodes: 133\n",
      "Number of edges: 325\n"
     ]
    }
   ],
   "source": [
    "# Read the edge list from the file and create the graph\n",
    "facebook_G = nx.read_edgelist('Facebook-Ego/3437_3.edges', nodetype=int)\n",
    "\n",
    "# Number of nodes and edges\n",
    "facebook_num_nodes = facebook_G.number_of_nodes()\n",
    "facebook_num_edges = facebook_G.number_of_edges()\n",
    "\n",
    "print(f\"Number of nodes: {facebook_num_nodes}\")\n",
    "print(f\"Number of edges: {facebook_num_edges}\")"
   ]
  },
  {
   "cell_type": "markdown",
   "metadata": {},
   "source": [
    "### Twitter - Directed Graph"
   ]
  },
  {
   "cell_type": "code",
   "execution_count": 15,
   "metadata": {},
   "outputs": [
    {
     "name": "stdout",
     "output_type": "stream",
     "text": [
      "Number of nodes: 144\n",
      "Number of edges: 4992\n"
     ]
    }
   ],
   "source": [
    "# Read the edge list from the file and create the graph\n",
    "twitter_G = nx.read_edgelist('Twitter-Ego/7517222.edges', create_using=nx.DiGraph(), nodetype=int)\n",
    "\n",
    "# Print the number of nodes and edges\n",
    "twitter_num_nodes = twitter_G.number_of_nodes()\n",
    "twitter_num_edges = twitter_G.number_of_edges()\n",
    "\n",
    "print(f\"Number of nodes: {twitter_num_nodes}\")\n",
    "print(f\"Number of edges: {twitter_num_edges}\")\n"
   ]
  },
  {
   "cell_type": "markdown",
   "metadata": {},
   "source": [
    "## (b) What are the maximum degree and the average degree of the networks?\n"
   ]
  },
  {
   "cell_type": "markdown",
   "metadata": {},
   "source": [
    "### Facebook - Undirected Graph"
   ]
  },
  {
   "cell_type": "code",
   "execution_count": 35,
   "metadata": {},
   "outputs": [
    {
     "name": "stdout",
     "output_type": "stream",
     "text": [
      "Maximum Degree: 26\n",
      "Average Degree: 4.89\n"
     ]
    }
   ],
   "source": [
    "# Calculate maximum degree\n",
    "facebook_max_degree = max(dict(facebook_G.degree()).values())\n",
    "\n",
    "# Calculate average degree\n",
    "facebook_average_degree = sum(dict(facebook_G.degree()).values()) / facebook_num_nodes\n",
    "\n",
    "# Print the results\n",
    "print(f\"Maximum Degree: {facebook_max_degree}\")\n",
    "print(f\"Average Degree: {facebook_average_degree:.2f}\")"
   ]
  },
  {
   "cell_type": "markdown",
   "metadata": {},
   "source": [
    "### Twitter - Directed Graph"
   ]
  },
  {
   "cell_type": "code",
   "execution_count": 37,
   "metadata": {},
   "outputs": [
    {
     "data": {
      "text/plain": [
       "{43971053: 52,\n",
       " 44527648: 72,\n",
       " 89014429: 63,\n",
       " 250831586: 63,\n",
       " 349157263: 37,\n",
       " 299926319: 55,\n",
       " 165188650: 19,\n",
       " 110895343: 48,\n",
       " 54135604: 40,\n",
       " 15290441: 89,\n",
       " 320508842: 22,\n",
       " 221521761: 33,\n",
       " 115700178: 35,\n",
       " 256155587: 20,\n",
       " 30745262: 36,\n",
       " 119511875: 42,\n",
       " 40326689: 33,\n",
       " 380482353: 11,\n",
       " 257509205: 59,\n",
       " 62726872: 54,\n",
       " 204957452: 41,\n",
       " 93908584: 16,\n",
       " 48623391: 55,\n",
       " 221573745: 21,\n",
       " 29206353: 24,\n",
       " 246616895: 17,\n",
       " 267009091: 38,\n",
       " 41304837: 53,\n",
       " 177355165: 11,\n",
       " 471281387: 16,\n",
       " 172542995: 59,\n",
       " 137524817: 25,\n",
       " 276626552: 37,\n",
       " 26568085: 77,\n",
       " 264548664: 30,\n",
       " 52135300: 67,\n",
       " 270497886: 14,\n",
       " 299932350: 37,\n",
       " 112915037: 67,\n",
       " 168767461: 69,\n",
       " 161061192: 26,\n",
       " 136311777: 55,\n",
       " 14936720: 30,\n",
       " 37591459: 55,\n",
       " 139188510: 44,\n",
       " 145700526: 9,\n",
       " 73571504: 57,\n",
       " 64926647: 41,\n",
       " 17733320: 65,\n",
       " 193494089: 46,\n",
       " 47845524: 40,\n",
       " 59702413: 34,\n",
       " 24529777: 59,\n",
       " 28301551: 74,\n",
       " 288000034: 31,\n",
       " 314120493: 44,\n",
       " 27744721: 64,\n",
       " 97690357: 63,\n",
       " 42984662: 27,\n",
       " 368703433: 13,\n",
       " 82143937: 45,\n",
       " 303895934: 32,\n",
       " 170002596: 65,\n",
       " 268551780: 17,\n",
       " 333552268: 35,\n",
       " 59659495: 42,\n",
       " 89288695: 72,\n",
       " 286329814: 11,\n",
       " 151112363: 29,\n",
       " 151129779: 32,\n",
       " 99955374: 5,\n",
       " 533379103: 16,\n",
       " 141664648: 81,\n",
       " 43949085: 42,\n",
       " 357665244: 21,\n",
       " 151138798: 39,\n",
       " 258868912: 48,\n",
       " 185449401: 36,\n",
       " 182033179: 55,\n",
       " 39860984: 28,\n",
       " 105251590: 60,\n",
       " 185410444: 20,\n",
       " 177345928: 74,\n",
       " 229333456: 44,\n",
       " 115705413: 49,\n",
       " 135039839: 49,\n",
       " 122555803: 31,\n",
       " 445071866: 7,\n",
       " 187664250: 48,\n",
       " 79332579: 39,\n",
       " 360025190: 20,\n",
       " 115682368: 61,\n",
       " 40302320: 31,\n",
       " 515722353: 6,\n",
       " 239095089: 53,\n",
       " 382861649: 27,\n",
       " 57982473: 32,\n",
       " 203258011: 22,\n",
       " 42962942: 7,\n",
       " 533486574: 12,\n",
       " 222148340: 9,\n",
       " 494276528: 9,\n",
       " 99570517: 56,\n",
       " 35450530: 36,\n",
       " 185384617: 29,\n",
       " 63796828: 5,\n",
       " 139848744: 57,\n",
       " 495310756: 20,\n",
       " 67737989: 29,\n",
       " 15738710: 26,\n",
       " 70006177: 44,\n",
       " 151116933: 11,\n",
       " 29459731: 34,\n",
       " 226009011: 14,\n",
       " 533394907: 12,\n",
       " 135032268: 45,\n",
       " 496492134: 0,\n",
       " 41284429: 20,\n",
       " 172887151: 50,\n",
       " 151124949: 25,\n",
       " 35958311: 44,\n",
       " 533501223: 27,\n",
       " 151140103: 39,\n",
       " 533423839: 14,\n",
       " 28265228: 17,\n",
       " 14084789: 3,\n",
       " 262310943: 36,\n",
       " 89556802: 63,\n",
       " 277576799: 15,\n",
       " 516771605: 28,\n",
       " 185415503: 30,\n",
       " 115701937: 43,\n",
       " 15134782: 4,\n",
       " 26136956: 30,\n",
       " 533426485: 16,\n",
       " 533408363: 25,\n",
       " 145706669: 19,\n",
       " 496460052: 0,\n",
       " 537550306: 8,\n",
       " 240063453: 3,\n",
       " 455943258: 2,\n",
       " 39547342: 14,\n",
       " 17874544: 2,\n",
       " 137747359: 2}"
      ]
     },
     "execution_count": 37,
     "metadata": {},
     "output_type": "execute_result"
    }
   ],
   "source": [
    "dict(twitter_G.in_degree())"
   ]
  },
  {
   "cell_type": "code",
   "execution_count": 38,
   "metadata": {},
   "outputs": [
    {
     "name": "stdout",
     "output_type": "stream",
     "text": [
      "Maximum In-Degree: 89\n",
      "Maximum Out-Degree: 112\n",
      "Average In-Degree: 34.67\n",
      "Average Out-Degree: 34.67\n"
     ]
    }
   ],
   "source": [
    "# Calculate in-degrees and out-degrees\n",
    "twitter_in_degrees = dict(twitter_G.in_degree())\n",
    "twitter_out_degrees = dict(twitter_G.out_degree())\n",
    "\n",
    "# Calculate maximum in-degree and out-degree\n",
    "twitter_max_in_degree = max(twitter_in_degrees.values())\n",
    "twitter_max_out_degree = max(twitter_out_degrees.values())\n",
    "\n",
    "# Calculate average in-degree and out-degree\n",
    "twitter_average_in_degree = sum(twitter_in_degrees.values()) / twitter_num_nodes\n",
    "twitter_average_out_degree = sum(twitter_out_degrees.values()) / twitter_num_nodes\n",
    "\n",
    "# Print the results\n",
    "print(f\"Maximum In-Degree: {twitter_max_in_degree}\")\n",
    "print(f\"Maximum Out-Degree: {twitter_max_out_degree}\")\n",
    "print(f\"Average In-Degree: {twitter_average_in_degree:.2f}\")\n",
    "print(f\"Average Out-Degree: {twitter_average_out_degree:.2f}\")"
   ]
  },
  {
   "cell_type": "markdown",
   "metadata": {},
   "source": [
    "## (c) Extract 5 - 8 nodes from the network and state them as a partial network. What is the adjacency matrix of the partial network? Why do we need adjacency matrix to describe the structure of the network?\n"
   ]
  },
  {
   "cell_type": "markdown",
   "metadata": {},
   "source": []
  }
 ],
 "metadata": {
  "kernelspec": {
   "display_name": "Python 3",
   "language": "python",
   "name": "python3"
  },
  "language_info": {
   "codemirror_mode": {
    "name": "ipython",
    "version": 3
   },
   "file_extension": ".py",
   "mimetype": "text/x-python",
   "name": "python",
   "nbconvert_exporter": "python",
   "pygments_lexer": "ipython3",
   "version": "3.9.13"
  }
 },
 "nbformat": 4,
 "nbformat_minor": 2
}
