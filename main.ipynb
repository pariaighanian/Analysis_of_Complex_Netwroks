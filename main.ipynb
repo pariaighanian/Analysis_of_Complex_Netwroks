{
 "cells": [
  {
   "cell_type": "markdown",
   "metadata": {},
   "source": [
    "## Assignment 1, Dataset 10\n",
    "## Student Name: Paria Ighanian, Student ID: 0200155529\n"
   ]
  },
  {
   "cell_type": "code",
   "execution_count": 13,
   "metadata": {},
   "outputs": [],
   "source": [
    "import networkx as nx\n",
    "import matplotlib.pyplot as plt\n",
    "import pandas as pd"
   ]
  },
  {
   "cell_type": "markdown",
   "metadata": {},
   "source": [
    "## (a) How many nodes and edges are there in the networks?\n"
   ]
  },
  {
   "cell_type": "markdown",
   "metadata": {},
   "source": [
    "### Facebook - Undirected Graph"
   ]
  },
  {
   "cell_type": "code",
   "execution_count": 3,
   "metadata": {},
   "outputs": [
    {
     "name": "stdout",
     "output_type": "stream",
     "text": [
      "Number of nodes: 133\n",
      "Number of edges: 325\n"
     ]
    }
   ],
   "source": [
    "# Read the edge list from the file and create the graph\n",
    "facebook_G = nx.read_edgelist('Facebook-Ego/3437_3.edges', nodetype=int)\n",
    "\n",
    "# Number of nodes and edges\n",
    "facebook_num_nodes = facebook_G.number_of_nodes()\n",
    "facebook_num_edges = facebook_G.number_of_edges()\n",
    "\n",
    "print(f\"Number of nodes: {facebook_num_nodes}\")\n",
    "print(f\"Number of edges: {facebook_num_edges}\")"
   ]
  },
  {
   "cell_type": "markdown",
   "metadata": {},
   "source": [
    "### Twitter - Directed Graph"
   ]
  },
  {
   "cell_type": "code",
   "execution_count": 4,
   "metadata": {},
   "outputs": [
    {
     "name": "stdout",
     "output_type": "stream",
     "text": [
      "Number of nodes: 144\n",
      "Number of edges: 4992\n"
     ]
    }
   ],
   "source": [
    "# Read the edge list from the file and create the graph\n",
    "twitter_G = nx.read_edgelist('Twitter-Ego/7517222.edges', create_using=nx.DiGraph(), nodetype=int)\n",
    "\n",
    "# Print the number of nodes and edges\n",
    "twitter_num_nodes = twitter_G.number_of_nodes()\n",
    "twitter_num_edges = twitter_G.number_of_edges()\n",
    "\n",
    "print(f\"Number of nodes: {twitter_num_nodes}\")\n",
    "print(f\"Number of edges: {twitter_num_edges}\")\n"
   ]
  },
  {
   "cell_type": "markdown",
   "metadata": {},
   "source": [
    "## (b) What are the maximum degree and the average degree of the networks?\n"
   ]
  },
  {
   "cell_type": "markdown",
   "metadata": {},
   "source": [
    "### Facebook - Undirected Graph"
   ]
  },
  {
   "cell_type": "code",
   "execution_count": 5,
   "metadata": {},
   "outputs": [
    {
     "name": "stdout",
     "output_type": "stream",
     "text": [
      "Maximum Degree: 26\n",
      "Average Degree: 4.89\n"
     ]
    }
   ],
   "source": [
    "# Calculate maximum degree\n",
    "facebook_max_degree = max(dict(facebook_G.degree()).values())\n",
    "\n",
    "# Calculate average degree\n",
    "facebook_average_degree = sum(dict(facebook_G.degree()).values()) / facebook_num_nodes\n",
    "\n",
    "# Print the results\n",
    "print(f\"Maximum Degree: {facebook_max_degree}\")\n",
    "print(f\"Average Degree: {facebook_average_degree:.2f}\")"
   ]
  },
  {
   "cell_type": "markdown",
   "metadata": {},
   "source": [
    "### Twitter - Directed Graph"
   ]
  },
  {
   "cell_type": "code",
   "execution_count": 6,
   "metadata": {},
   "outputs": [
    {
     "name": "stdout",
     "output_type": "stream",
     "text": [
      "Maximum In-Degree: 89\n",
      "Maximum Out-Degree: 112\n",
      "Average In-Degree: 34.67\n",
      "Average Out-Degree: 34.67\n"
     ]
    }
   ],
   "source": [
    "# Calculate in-degrees and out-degrees\n",
    "twitter_in_degrees = dict(twitter_G.in_degree())\n",
    "twitter_out_degrees = dict(twitter_G.out_degree())\n",
    "\n",
    "# Calculate maximum in-degree and out-degree\n",
    "twitter_max_in_degree = max(twitter_in_degrees.values())\n",
    "twitter_max_out_degree = max(twitter_out_degrees.values())\n",
    "\n",
    "# Calculate average in-degree and out-degree\n",
    "twitter_average_in_degree = sum(twitter_in_degrees.values()) / twitter_num_nodes\n",
    "twitter_average_out_degree = sum(twitter_out_degrees.values()) / twitter_num_nodes\n",
    "\n",
    "# Print the results\n",
    "print(f\"Maximum In-Degree: {twitter_max_in_degree}\")\n",
    "print(f\"Maximum Out-Degree: {twitter_max_out_degree}\")\n",
    "print(f\"Average In-Degree: {twitter_average_in_degree:.2f}\")\n",
    "print(f\"Average Out-Degree: {twitter_average_out_degree:.2f}\")"
   ]
  },
  {
   "cell_type": "markdown",
   "metadata": {},
   "source": [
    "## (c) Extract 5 - 8 nodes from the network and state them as a partial network. What is the adjacency matrix of the partial network? Why do we need adjacency matrix to describe the structure of the network?\n"
   ]
  },
  {
   "cell_type": "markdown",
   "metadata": {},
   "source": [
    "### Facebook - Undirected Graph"
   ]
  },
  {
   "cell_type": "code",
   "execution_count": 7,
   "metadata": {},
   "outputs": [
    {
     "name": "stdout",
     "output_type": "stream",
     "text": [
      "Selected Nodes: [3826, 3869, 3838, 3804, 3830, 3813, 3764, 3758]\n",
      "Adjacency Matrix:\n",
      " [[0 0 0 0 1 0 0 0]\n",
      " [0 0 0 1 0 0 0 0]\n",
      " [0 0 0 0 0 0 1 0]\n",
      " [0 1 0 0 0 0 0 0]\n",
      " [1 0 0 0 0 1 0 0]\n",
      " [0 0 0 0 1 0 0 1]\n",
      " [0 0 1 0 0 0 0 0]\n",
      " [0 0 0 0 0 1 0 0]]\n"
     ]
    }
   ],
   "source": [
    "# Select the first 8 nodes from the original graph\n",
    "facebook_selected_nodes = list(facebook_G.nodes)[:8]\n",
    "\n",
    "# Create a subgraph of the selected nodes\n",
    "facebook_partial_network = facebook_G.subgraph(facebook_selected_nodes)\n",
    "\n",
    "# Calculate the adjacency matrix\n",
    "facebook_subgraph_adjacency_matrix = nx.adjacency_matrix(facebook_partial_network)\n",
    "\n",
    "# Display the results\n",
    "print(\"Selected Nodes:\", facebook_selected_nodes)\n",
    "print(\"Adjacency Matrix:\\n\", facebook_subgraph_adjacency_matrix.todense())"
   ]
  },
  {
   "cell_type": "code",
   "execution_count": 34,
   "metadata": {},
   "outputs": [
    {
     "data": {
      "text/html": [
       "<div>\n",
       "<style scoped>\n",
       "    .dataframe tbody tr th:only-of-type {\n",
       "        vertical-align: middle;\n",
       "    }\n",
       "\n",
       "    .dataframe tbody tr th {\n",
       "        vertical-align: top;\n",
       "    }\n",
       "\n",
       "    .dataframe thead th {\n",
       "        text-align: right;\n",
       "    }\n",
       "</style>\n",
       "<table border=\"1\" class=\"dataframe\">\n",
       "  <thead>\n",
       "    <tr style=\"text-align: right;\">\n",
       "      <th></th>\n",
       "      <th>3813</th>\n",
       "      <th>3758</th>\n",
       "      <th>3826</th>\n",
       "      <th>3764</th>\n",
       "      <th>3830</th>\n",
       "      <th>3804</th>\n",
       "      <th>3869</th>\n",
       "      <th>3838</th>\n",
       "    </tr>\n",
       "  </thead>\n",
       "  <tbody>\n",
       "    <tr>\n",
       "      <th>3813</th>\n",
       "      <td>0</td>\n",
       "      <td>0</td>\n",
       "      <td>0</td>\n",
       "      <td>0</td>\n",
       "      <td>1</td>\n",
       "      <td>0</td>\n",
       "      <td>0</td>\n",
       "      <td>0</td>\n",
       "    </tr>\n",
       "    <tr>\n",
       "      <th>3758</th>\n",
       "      <td>0</td>\n",
       "      <td>0</td>\n",
       "      <td>0</td>\n",
       "      <td>1</td>\n",
       "      <td>0</td>\n",
       "      <td>0</td>\n",
       "      <td>0</td>\n",
       "      <td>0</td>\n",
       "    </tr>\n",
       "    <tr>\n",
       "      <th>3826</th>\n",
       "      <td>0</td>\n",
       "      <td>0</td>\n",
       "      <td>0</td>\n",
       "      <td>0</td>\n",
       "      <td>0</td>\n",
       "      <td>0</td>\n",
       "      <td>1</td>\n",
       "      <td>0</td>\n",
       "    </tr>\n",
       "    <tr>\n",
       "      <th>3764</th>\n",
       "      <td>0</td>\n",
       "      <td>1</td>\n",
       "      <td>0</td>\n",
       "      <td>0</td>\n",
       "      <td>0</td>\n",
       "      <td>0</td>\n",
       "      <td>0</td>\n",
       "      <td>0</td>\n",
       "    </tr>\n",
       "    <tr>\n",
       "      <th>3830</th>\n",
       "      <td>1</td>\n",
       "      <td>0</td>\n",
       "      <td>0</td>\n",
       "      <td>0</td>\n",
       "      <td>0</td>\n",
       "      <td>1</td>\n",
       "      <td>0</td>\n",
       "      <td>0</td>\n",
       "    </tr>\n",
       "    <tr>\n",
       "      <th>3804</th>\n",
       "      <td>0</td>\n",
       "      <td>0</td>\n",
       "      <td>0</td>\n",
       "      <td>0</td>\n",
       "      <td>1</td>\n",
       "      <td>0</td>\n",
       "      <td>0</td>\n",
       "      <td>1</td>\n",
       "    </tr>\n",
       "    <tr>\n",
       "      <th>3869</th>\n",
       "      <td>0</td>\n",
       "      <td>0</td>\n",
       "      <td>1</td>\n",
       "      <td>0</td>\n",
       "      <td>0</td>\n",
       "      <td>0</td>\n",
       "      <td>0</td>\n",
       "      <td>0</td>\n",
       "    </tr>\n",
       "    <tr>\n",
       "      <th>3838</th>\n",
       "      <td>0</td>\n",
       "      <td>0</td>\n",
       "      <td>0</td>\n",
       "      <td>0</td>\n",
       "      <td>0</td>\n",
       "      <td>1</td>\n",
       "      <td>0</td>\n",
       "      <td>0</td>\n",
       "    </tr>\n",
       "  </tbody>\n",
       "</table>\n",
       "</div>"
      ],
      "text/plain": [
       "      3813  3758  3826  3764  3830  3804  3869  3838\n",
       "3813     0     0     0     0     1     0     0     0\n",
       "3758     0     0     0     1     0     0     0     0\n",
       "3826     0     0     0     0     0     0     1     0\n",
       "3764     0     1     0     0     0     0     0     0\n",
       "3830     1     0     0     0     0     1     0     0\n",
       "3804     0     0     0     0     1     0     0     1\n",
       "3869     0     0     1     0     0     0     0     0\n",
       "3838     0     0     0     0     0     1     0     0"
      ]
     },
     "execution_count": 34,
     "metadata": {},
     "output_type": "execute_result"
    }
   ],
   "source": [
    "facebook_adjacency_df = nx.to_pandas_adjacency(facebook_partial_network).astype(int)\n",
    "facebook_adjacency_df"
   ]
  },
  {
   "cell_type": "code",
   "execution_count": 35,
   "metadata": {},
   "outputs": [
    {
     "data": {
      "text/plain": [
       "EdgeView([(3813, 3830), (3758, 3764), (3826, 3869), (3830, 3804), (3804, 3838)])"
      ]
     },
     "execution_count": 35,
     "metadata": {},
     "output_type": "execute_result"
    }
   ],
   "source": [
    "facebook_partial_network.edges()"
   ]
  },
  {
   "cell_type": "markdown",
   "metadata": {},
   "source": [
    "#### Here there is no direction. so for both matrix\\[ i, j \\] , matrix\\[ j, i \\] we have value 1."
   ]
  },
  {
   "cell_type": "code",
   "execution_count": 8,
   "metadata": {},
   "outputs": [
    {
     "data": {
      "image/png": "[encoded data removed]",
      "text/plain": [
       "<Figure size 640x480 with 1 Axes>"
      ]
     },
     "metadata": {},
     "output_type": "display_data"
    }
   ],
   "source": [
    "pos = nx.spring_layout(facebook_partial_network, k=0.5, seed=42)  \n",
    "\n",
    "# Draw the network \n",
    "nx.draw(\n",
    "    facebook_partial_network,\n",
    "    pos,\n",
    "    with_labels=True,          \n",
    "    node_size=800,             \n",
    "    node_color='lightblue',    \n",
    "    font_size=12,              \n",
    "    font_color='black',       \n",
    "    edge_color='gray',      \n",
    "    width=3,                  \n",
    ")\n",
    "\n",
    "# Show the plot\n",
    "plt.title(\"Partial Facebook Network\")\n",
    "plt.show()"
   ]
  },
  {
   "cell_type": "markdown",
   "metadata": {},
   "source": [
    "### Twitter - Directed Graph"
   ]
  },
  {
   "cell_type": "code",
   "execution_count": 9,
   "metadata": {},
   "outputs": [
    {
     "name": "stdout",
     "output_type": "stream",
     "text": [
      "Selected Nodes: [43971053, 44527648, 89014429, 250831586, 349157263, 299926319, 165188650, 110895343]\n",
      "Adjacency Matrix:\n",
      " [[0 0 0 1 0 0 0 1]\n",
      " [0 0 0 0 0 0 0 0]\n",
      " [0 1 0 0 0 0 1 0]\n",
      " [1 1 0 0 0 1 0 0]\n",
      " [1 1 0 0 0 1 0 1]\n",
      " [1 0 0 1 1 0 1 1]\n",
      " [0 0 0 0 0 0 0 0]\n",
      " [1 1 0 1 1 1 0 0]]\n"
     ]
    }
   ],
   "source": [
    "# Select the first 8 nodes from the original directed graph\n",
    "twitter_selected_nodes = list(twitter_G.nodes)[:8]\n",
    "\n",
    "# Create a subgraph of the selected nodes\n",
    "twitter_partial_network = twitter_G.subgraph(twitter_selected_nodes)\n",
    "\n",
    "# Calculate the adjacency matrix for the directed subgraph\n",
    "twitter_subgraph_adjacency_matrix = nx.adjacency_matrix(twitter_partial_network)\n",
    "\n",
    "# Display the results\n",
    "print(\"Selected Nodes:\", twitter_selected_nodes)\n",
    "print(\"Adjacency Matrix:\\n\", twitter_subgraph_adjacency_matrix.todense())"
   ]
  },
  {
   "cell_type": "code",
   "execution_count": 33,
   "metadata": {},
   "outputs": [
    {
     "data": {
      "text/html": [
       "<div>\n",
       "<style scoped>\n",
       "    .dataframe tbody tr th:only-of-type {\n",
       "        vertical-align: middle;\n",
       "    }\n",
       "\n",
       "    .dataframe tbody tr th {\n",
       "        vertical-align: top;\n",
       "    }\n",
       "\n",
       "    .dataframe thead th {\n",
       "        text-align: right;\n",
       "    }\n",
       "</style>\n",
       "<table border=\"1\" class=\"dataframe\">\n",
       "  <thead>\n",
       "    <tr style=\"text-align: right;\">\n",
       "      <th></th>\n",
       "      <th>44527648</th>\n",
       "      <th>250831586</th>\n",
       "      <th>165188650</th>\n",
       "      <th>43971053</th>\n",
       "      <th>349157263</th>\n",
       "      <th>299926319</th>\n",
       "      <th>110895343</th>\n",
       "      <th>89014429</th>\n",
       "    </tr>\n",
       "  </thead>\n",
       "  <tbody>\n",
       "    <tr>\n",
       "      <th>44527648</th>\n",
       "      <td>0</td>\n",
       "      <td>0</td>\n",
       "      <td>0</td>\n",
       "      <td>1</td>\n",
       "      <td>0</td>\n",
       "      <td>0</td>\n",
       "      <td>0</td>\n",
       "      <td>1</td>\n",
       "    </tr>\n",
       "    <tr>\n",
       "      <th>250831586</th>\n",
       "      <td>0</td>\n",
       "      <td>0</td>\n",
       "      <td>0</td>\n",
       "      <td>0</td>\n",
       "      <td>0</td>\n",
       "      <td>0</td>\n",
       "      <td>0</td>\n",
       "      <td>0</td>\n",
       "    </tr>\n",
       "    <tr>\n",
       "      <th>165188650</th>\n",
       "      <td>0</td>\n",
       "      <td>1</td>\n",
       "      <td>0</td>\n",
       "      <td>0</td>\n",
       "      <td>0</td>\n",
       "      <td>0</td>\n",
       "      <td>1</td>\n",
       "      <td>0</td>\n",
       "    </tr>\n",
       "    <tr>\n",
       "      <th>43971053</th>\n",
       "      <td>1</td>\n",
       "      <td>1</td>\n",
       "      <td>0</td>\n",
       "      <td>0</td>\n",
       "      <td>0</td>\n",
       "      <td>1</td>\n",
       "      <td>0</td>\n",
       "      <td>0</td>\n",
       "    </tr>\n",
       "    <tr>\n",
       "      <th>349157263</th>\n",
       "      <td>1</td>\n",
       "      <td>1</td>\n",
       "      <td>0</td>\n",
       "      <td>0</td>\n",
       "      <td>0</td>\n",
       "      <td>1</td>\n",
       "      <td>0</td>\n",
       "      <td>1</td>\n",
       "    </tr>\n",
       "    <tr>\n",
       "      <th>299926319</th>\n",
       "      <td>1</td>\n",
       "      <td>0</td>\n",
       "      <td>0</td>\n",
       "      <td>1</td>\n",
       "      <td>1</td>\n",
       "      <td>0</td>\n",
       "      <td>1</td>\n",
       "      <td>1</td>\n",
       "    </tr>\n",
       "    <tr>\n",
       "      <th>110895343</th>\n",
       "      <td>0</td>\n",
       "      <td>0</td>\n",
       "      <td>0</td>\n",
       "      <td>0</td>\n",
       "      <td>0</td>\n",
       "      <td>0</td>\n",
       "      <td>0</td>\n",
       "      <td>0</td>\n",
       "    </tr>\n",
       "    <tr>\n",
       "      <th>89014429</th>\n",
       "      <td>1</td>\n",
       "      <td>1</td>\n",
       "      <td>0</td>\n",
       "      <td>1</td>\n",
       "      <td>1</td>\n",
       "      <td>1</td>\n",
       "      <td>0</td>\n",
       "      <td>0</td>\n",
       "    </tr>\n",
       "  </tbody>\n",
       "</table>\n",
       "</div>"
      ],
      "text/plain": [
       "           44527648   250831586  165188650  43971053   349157263  299926319  \\\n",
       "44527648           0          0          0          1          0          0   \n",
       "250831586          0          0          0          0          0          0   \n",
       "165188650          0          1          0          0          0          0   \n",
       "43971053           1          1          0          0          0          1   \n",
       "349157263          1          1          0          0          0          1   \n",
       "299926319          1          0          0          1          1          0   \n",
       "110895343          0          0          0          0          0          0   \n",
       "89014429           1          1          0          1          1          1   \n",
       "\n",
       "           110895343  89014429   \n",
       "44527648           0          1  \n",
       "250831586          0          0  \n",
       "165188650          1          0  \n",
       "43971053           0          0  \n",
       "349157263          0          1  \n",
       "299926319          1          1  \n",
       "110895343          0          0  \n",
       "89014429           0          0  "
      ]
     },
     "execution_count": 33,
     "metadata": {},
     "output_type": "execute_result"
    }
   ],
   "source": [
    "twitter_adjacency_df = nx.to_pandas_adjacency(twitter_partial_network).astype(int)\n",
    "twitter_adjacency_df"
   ]
  },
  {
   "cell_type": "markdown",
   "metadata": {},
   "source": [
    "#### Here there is a direction. so if there is value 1 in matrix\\[ i, j \\], that means there is an edge that starts from Node i and goes to Node j.  i -> j"
   ]
  },
  {
   "cell_type": "code",
   "execution_count": 11,
   "metadata": {},
   "outputs": [
    {
     "data": {
      "image/png": "[encoded data removed]",
      "text/plain": [
       "<Figure size 640x480 with 1 Axes>"
      ]
     },
     "metadata": {},
     "output_type": "display_data"
    }
   ],
   "source": [
    "pos = nx.spring_layout(twitter_partial_network, k=0.5, seed=42)  \n",
    "\n",
    "# Draw the network \n",
    "nx.draw(\n",
    "    twitter_partial_network,\n",
    "    pos,\n",
    "arrows=True ,   with_labels=True,          \n",
    "    node_size=800,             \n",
    "    node_color='lightblue',    \n",
    "    font_size=12,              \n",
    "    font_color='black',       \n",
    "    edge_color='gray',      \n",
    "    width=3,                  \n",
    ")\n",
    "\n",
    "# Show the plot\n",
    "plt.title(\"Partial Twitter Network\")\n",
    "plt.show()\n"
   ]
  },
  {
   "cell_type": "markdown",
   "metadata": {},
   "source": [
    "## The adjacency matrix offers a compact and clear representation of a graph's structure, making it easier to analyze connections between nodes."
   ]
  }
 ],
 "metadata": {
  "kernelspec": {
   "display_name": "Python 3",
   "language": "python",
   "name": "python3"
  },
  "language_info": {
   "codemirror_mode": {
    "name": "ipython",
    "version": 3
   },
   "file_extension": ".py",
   "mimetype": "text/x-python",
   "name": "python",
   "nbconvert_exporter": "python",
   "pygments_lexer": "ipython3",
   "version": "3.9.13"
  }
 },
 "nbformat": 4,
 "nbformat_minor": 2
}
