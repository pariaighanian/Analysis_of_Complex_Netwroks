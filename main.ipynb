{
 "cells": [
  {
   "cell_type": "code",
   "execution_count": 17,
   "metadata": {},
   "outputs": [],
   "source": [
    "import networkx as nx\n"
   ]
  },
  {
   "cell_type": "markdown",
   "metadata": {},
   "source": [
    "## (a) How many nodes and edges are there in the networks?\n"
   ]
  },
  {
   "cell_type": "markdown",
   "metadata": {},
   "source": [
    "### Facebook - Undirected Graph"
   ]
  },
  {
   "cell_type": "code",
   "execution_count": 18,
   "metadata": {},
   "outputs": [
    {
     "name": "stdout",
     "output_type": "stream",
     "text": [
      "Number of nodes: 133\n",
      "Number of edges: 325\n"
     ]
    }
   ],
   "source": [
    "# Read the edge list from the file and create the graph\n",
    "facebook_G = nx.read_edgelist('Facebook-Ego/3437_3.edges', nodetype=int)\n",
    "\n",
    "# Number of nodes and edges\n",
    "facebook_num_nodes = facebook_G.number_of_nodes()\n",
    "facebook_num_edges = facebook_G.number_of_edges()\n",
    "\n",
    "print(f\"Number of nodes: {facebook_num_nodes}\")\n",
    "print(f\"Number of edges: {facebook_num_edges}\")"
   ]
  },
  {
   "cell_type": "markdown",
   "metadata": {},
   "source": [
    "### Twitter - Directed Graph"
   ]
  },
  {
   "cell_type": "code",
   "execution_count": 15,
   "metadata": {},
   "outputs": [
    {
     "name": "stdout",
     "output_type": "stream",
     "text": [
      "Number of nodes: 144\n",
      "Number of edges: 4992\n"
     ]
    }
   ],
   "source": [
    "# Read the edge list from the file and create the graph\n",
    "twitter_G = nx.read_edgelist('Twitter-Ego/7517222.edges', create_using=nx.DiGraph(), nodetype=int)\n",
    "\n",
    "# Print the number of nodes and edges\n",
    "twitter_num_nodes = twitter_G.number_of_nodes()\n",
    "twitter_num_edges = twitter_G.number_of_edges()\n",
    "\n",
    "print(f\"Number of nodes: {twitter_num_nodes}\")\n",
    "print(f\"Number of edges: {twitter_num_edges}\")\n"
   ]
  },
  {
   "cell_type": "markdown",
   "metadata": {},
   "source": [
    "## (b) What are the maximum degree and the average degree of the networks?\n"
   ]
  },
  {
   "cell_type": "markdown",
   "metadata": {},
   "source": [
    "### Facebook - Undirected Graph"
   ]
  },
  {
   "cell_type": "code",
   "execution_count": 35,
   "metadata": {},
   "outputs": [
    {
     "name": "stdout",
     "output_type": "stream",
     "text": [
      "Maximum Degree: 26\n",
      "Average Degree: 4.89\n"
     ]
    }
   ],
   "source": [
    "# Calculate maximum degree\n",
    "facebook_max_degree = max(dict(facebook_G.degree()).values())\n",
    "\n",
    "# Calculate average degree\n",
    "facebook_average_degree = sum(dict(facebook_G.degree()).values()) / facebook_num_nodes\n",
    "\n",
    "# Print the results\n",
    "print(f\"Maximum Degree: {facebook_max_degree}\")\n",
    "print(f\"Average Degree: {facebook_average_degree:.2f}\")"
   ]
  },
  {
   "cell_type": "markdown",
   "metadata": {},
   "source": [
    "### Twitter - Directed Graph"
   ]
  },
  {
   "cell_type": "code",
   "execution_count": 39,
   "metadata": {},
   "outputs": [
    {
     "name": "stdout",
     "output_type": "stream",
     "text": [
      "Maximum In-Degree: 89\n",
      "Maximum Out-Degree: 112\n",
      "Average In-Degree: 34.67\n",
      "Average Out-Degree: 34.67\n"
     ]
    }
   ],
   "source": [
    "# Calculate in-degrees and out-degrees\n",
    "twitter_in_degrees = dict(twitter_G.in_degree())\n",
    "twitter_out_degrees = dict(twitter_G.out_degree())\n",
    "\n",
    "# Calculate maximum in-degree and out-degree\n",
    "twitter_max_in_degree = max(twitter_in_degrees.values())\n",
    "twitter_max_out_degree = max(twitter_out_degrees.values())\n",
    "\n",
    "# Calculate average in-degree and out-degree\n",
    "twitter_average_in_degree = sum(twitter_in_degrees.values()) / twitter_num_nodes\n",
    "twitter_average_out_degree = sum(twitter_out_degrees.values()) / twitter_num_nodes\n",
    "\n",
    "# Print the results\n",
    "print(f\"Maximum In-Degree: {twitter_max_in_degree}\")\n",
    "print(f\"Maximum Out-Degree: {twitter_max_out_degree}\")\n",
    "print(f\"Average In-Degree: {twitter_average_in_degree:.2f}\")\n",
    "print(f\"Average Out-Degree: {twitter_average_out_degree:.2f}\")"
   ]
  },
  {
   "cell_type": "markdown",
   "metadata": {},
   "source": [
    "## (c) Extract 5 - 8 nodes from the network and state them as a partial network. What is the adjacency matrix of the partial network? Why do we need adjacency matrix to describe the structure of the network?\n"
   ]
  },
  {
   "cell_type": "markdown",
   "metadata": {},
   "source": []
  }
 ],
 "metadata": {
  "kernelspec": {
   "display_name": "Python 3",
   "language": "python",
   "name": "python3"
  },
  "language_info": {
   "codemirror_mode": {
    "name": "ipython",
    "version": 3
   },
   "file_extension": ".py",
   "mimetype": "text/x-python",
   "name": "python",
   "nbconvert_exporter": "python",
   "pygments_lexer": "ipython3",
   "version": "3.9.13"
  }
 },
 "nbformat": 4,
 "nbformat_minor": 2
}
